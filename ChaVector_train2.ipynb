{
 "cells": [
  {
   "cell_type": "code",
   "execution_count": 9,
   "metadata": {
    "colab": {},
    "colab_type": "code",
    "executionInfo": {
     "elapsed": 1340,
     "status": "ok",
     "timestamp": 1595382198791,
     "user": {
      "displayName": "數學系410531239 潘岳廷",
      "photoUrl": "",
      "userId": "01296087288080262773"
     },
     "user_tz": -480
    },
    "id": "s_97c1F98MRu"
   },
   "outputs": [],
   "source": [
    "\n",
    "# !rm -rf LightGBM\n",
    "import lightgbm as lgb\n",
    "# %cd ..\n",
    "# %cd build\n",
    "# !cmake -DUSE_GPU=1 .."
   ]
  },
  {
   "cell_type": "code",
   "execution_count": null,
   "metadata": {
    "colab": {},
    "colab_type": "code",
    "executionInfo": {
     "elapsed": 1153,
     "status": "ok",
     "timestamp": 1595382201977,
     "user": {
      "displayName": "數學系410531239 潘岳廷",
      "photoUrl": "",
      "userId": "01296087288080262773"
     },
     "user_tz": -480
    },
    "id": "3eoMleouZOR0"
   },
   "outputs": [],
   "source": []
  },
  {
   "cell_type": "code",
   "execution_count": 10,
   "metadata": {
    "colab": {
     "base_uri": "https://localhost:8080/",
     "height": 71
    },
    "colab_type": "code",
    "executionInfo": {
     "elapsed": 3650,
     "status": "ok",
     "timestamp": 1595382204861,
     "user": {
      "displayName": "數學系410531239 潘岳廷",
      "photoUrl": "",
      "userId": "01296087288080262773"
     },
     "user_tz": -480
    },
    "id": "if4ts_MewNes",
    "outputId": "b0ed34c3-0330-419f-9d05-cffb88fed854"
   },
   "outputs": [],
   "source": [
    "import os\n",
    "import pandas as pd\n",
    "import pickle\n",
    "import seaborn as sns\n",
    "import matplotlib.image as mpimg\n",
    "from PIL import Image#https://yungyuc.github.io/oldtech/python/python_imaging.html\n",
    "import torchvision\n",
    "import torchvision.transforms as transforms\n",
    "import matplotlib.pyplot as plt\n",
    "import torch\n",
    "from torch.utils.data import Dataset, DataLoader\n",
    "import glob\n",
    "import numpy as np\n",
    "from PIL import Image#https://yungyuc.github.io/oldtech/python/python_imaging.html\n",
    "import torch.optim as optim\n",
    "from torch.optim import lr_scheduler\n"
   ]
  },
  {
   "cell_type": "code",
   "execution_count": 11,
   "metadata": {
    "colab": {},
    "colab_type": "code",
    "executionInfo": {
     "elapsed": 2371,
     "status": "ok",
     "timestamp": 1595382211191,
     "user": {
      "displayName": "數學系410531239 潘岳廷",
      "photoUrl": "",
      "userId": "01296087288080262773"
     },
     "user_tz": -480
    },
    "id": "R4bQLpriVzEY"
   },
   "outputs": [],
   "source": [
    "\n",
    "import torchvision.models as models\n",
    "import torch.nn as nn\n",
    "import time\n",
    "# from py_files.dataloader2 import *\n",
    "import copy"
   ]
  },
  {
   "cell_type": "code",
   "execution_count": null,
   "metadata": {
    "colab": {
     "base_uri": "https://localhost:8080/",
     "height": 34
    },
    "colab_type": "code",
    "executionInfo": {
     "elapsed": 1029,
     "status": "ok",
     "timestamp": 1595382212181,
     "user": {
      "displayName": "數學系410531239 潘岳廷",
      "photoUrl": "",
      "userId": "01296087288080262773"
     },
     "user_tz": -480
    },
    "id": "0vIBgdtqf3bn",
    "outputId": "1659e445-c9a2-4551-b1d0-7868720b0d42"
   },
   "outputs": [],
   "source": []
  },
  {
   "cell_type": "code",
   "execution_count": 12,
   "metadata": {
    "colab": {},
    "colab_type": "code",
    "executionInfo": {
     "elapsed": 886,
     "status": "ok",
     "timestamp": 1595382218046,
     "user": {
      "displayName": "數學系410531239 潘岳廷",
      "photoUrl": "",
      "userId": "01296087288080262773"
     },
     "user_tz": -480
    },
    "id": "ceaDQZrTVeRI"
   },
   "outputs": [],
   "source": [
    "import torch\n",
    "device = 'cpu'"
   ]
  },
  {
   "cell_type": "code",
   "execution_count": 14,
   "metadata": {
    "colab": {},
    "colab_type": "code",
    "executionInfo": {
     "elapsed": 11614,
     "status": "ok",
     "timestamp": 1595382229132,
     "user": {
      "displayName": "數學系410531239 潘岳廷",
      "photoUrl": "",
      "userId": "01296087288080262773"
     },
     "user_tz": -480
    },
    "id": "rpa_KOQX3zXX"
   },
   "outputs": [],
   "source": [
    "X = torch.empty(0,4608).to(device)\n",
    "y = torch.empty(0, dtype=torch.long).to(device)\n",
    "for i in range(1,5):\n",
    "  loal = torch.load(open(\"./model_params/feat_extra\"+str(i)+\".pth\", 'rb'), map_location='cpu')\n",
    "  X = torch.cat((X, loal), dim = 0)\n",
    "\n",
    "  loal2 = torch.load(open(\"./model_params/label\"+str(i)+\".pth\", 'rb'),map_location='cpu')\n",
    "  y = torch.cat((y, loal2), dim = 0)\n",
    "\n",
    "X_dev = torch.load(open(\"./model_params/dev_feat_extra.pth\", 'rb'),map_location='cpu')\n",
    "y_dev = torch.load(open(\"./model_params/dev_label.pth\", 'rb'),map_location='cpu')\n"
   ]
  },
  {
   "cell_type": "code",
   "execution_count": 15,
   "metadata": {
    "colab": {
     "base_uri": "https://localhost:8080/",
     "height": 170
    },
    "colab_type": "code",
    "executionInfo": {
     "elapsed": 1156,
     "status": "ok",
     "timestamp": 1595382302045,
     "user": {
      "displayName": "數學系410531239 潘岳廷",
      "photoUrl": "",
      "userId": "01296087288080262773"
     },
     "user_tz": -480
    },
    "id": "LsH7mg5J-FDA",
    "outputId": "6baab718-aa8c-44f5-9b9a-add534365bad"
   },
   "outputs": [
    {
     "name": "stdout",
     "output_type": "stream",
     "text": [
      "tensor([[ 0.3502,  0.1545,  0.9300,  ...,  0.0409,  0.0211,  0.0114],\n",
      "        [ 0.8018,  0.1333,  0.4812,  ..., -0.0092,  0.0235,  0.0047]])\n",
      "4608\n",
      "**************************************************\n",
      "tensor([0, 0, 2, 1, 0])\n",
      "torch.Size([22400])\n",
      "**************************************************\n",
      "torch.Size([800, 4608])\n",
      "torch.Size([800])\n"
     ]
    }
   ],
   "source": [
    "print(X[2:4])\n",
    "print(X.size()[1])\n",
    "print(\"*\"*50)\n",
    "print(y[0:5])\n",
    "print(y.size())\n",
    "print(\"*\"*50)\n",
    "print(X_dev.size())\n",
    "print(y_dev.size())"
   ]
  },
  {
   "cell_type": "code",
   "execution_count": 8,
   "metadata": {
    "colab": {},
    "colab_type": "code",
    "executionInfo": {
     "elapsed": 1191,
     "status": "ok",
     "timestamp": 1595382304702,
     "user": {
      "displayName": "數學系410531239 潘岳廷",
      "photoUrl": "",
      "userId": "01296087288080262773"
     },
     "user_tz": -480
    },
    "id": "IgH68LIJqgOx"
   },
   "outputs": [],
   "source": [
    "# parameters = {\n",
    "#     'max_depth': [ 6, 7, 9,10],\n",
    "#     'num_leaves':[ 60, 80, 90, 100],\n",
    "# }\n",
    "\n",
    "# gbm = lgb.LGBMClassifier(objective = 'multiclass',\n",
    "#                           metric = 'multi_logloss',\n",
    "#                           max_depth = 6,\n",
    "#                           num_leaves = 60,\n",
    "#                           learning_rate = 0.1,\n",
    "#                           feature_fraction = 0.7,\n",
    "#                           min_child_samples=21,\n",
    "#                           min_child_weight=0.001,\n",
    "#                           bagging_fraction = 1,\n",
    "#                           bagging_freq = 2,\n",
    "#                           reg_alpha = 0.001,\n",
    "#                           reg_lambda = 8,\n",
    "#                           cat_smooth = 0, \n",
    "#                           device = 'gpu',\n",
    "#                           gpu_platform_id = 0, \n",
    "#                           gpu_device_id = 0\n",
    "#                         )\n",
    "# gsearch = GridSearchCV(gbm, param_grid=parameters, cv=3)\n",
    "# gsearch.fit(X, y)\n",
    "# print('参数的最佳取值:{0}'.format(gsearch.best_params_))\n",
    "# print('最佳模型得分:{0}'.format(gsearch.best_score_))\n",
    "# print('最佳模型時間:{0}'.format(gsearch.refit_time_))\n",
    "# print(gsearch.cv_results_['mean_test_score'])\n",
    "# print(gsearch.cv_results_['params'])"
   ]
  },
  {
   "cell_type": "code",
   "execution_count": 31,
   "metadata": {
    "colab": {
     "base_uri": "https://localhost:8080/",
     "height": 306
    },
    "colab_type": "code",
    "executionInfo": {
     "elapsed": 810174,
     "status": "ok",
     "timestamp": 1595383113883,
     "user": {
      "displayName": "數學系410531239 潘岳廷",
      "photoUrl": "",
      "userId": "01296087288080262773"
     },
     "user_tz": -480
    },
    "id": "XKS2PASLKQio",
    "outputId": "da464e70-4626-4bd8-a12a-c55519490885"
   },
   "outputs": [
    {
     "name": "stdout",
     "output_type": "stream",
     "text": [
      "0.001, 8, acc in dev:0.73375,  acc in train:0.9789732142857143\n",
      "LGBMClassifier(bagging_fraction=1, bagging_freq=2, cat_smooth=0, device='cpu',\n",
      "               feature_fraction=0.7, learning_rate=0.008, max_depth=9,\n",
      "               metric='multi_logloss', min_child_samples=21, n_estimators=600,\n",
      "               num_leaves=255, objective='muilti_class', reg_alpha=0.001,\n",
      "               reg_lambda=8) 0.73375\n"
     ]
    }
   ],
   "source": [
    "\n",
    "\n",
    "X = X.cpu()\n",
    "y = y.cpu()\n",
    "X_dev = X_dev.cpu()\n",
    "y_dev = y_dev.cpu()\n",
    "parameters = {\n",
    "              # 'device':'gpu',\n",
    "              # 'max_depth': [ 9],\n",
    "              # 'num_leaves':[255],\n",
    "\n",
    "              # 'min_data_in_leaf':[21]],\n",
    "              # 'min_sum_hessian_in_leaf':[0.001],\n",
    "\n",
    "              # 'feature_fraction': [0.6, 0.7, 0.8, 0.9,1.0],\n",
    "              # 'bagging_fraction': [0.7,0.8,0.9,1.0],\n",
    "              # # # 'bagging_freq': [2, 4, 5, 6, 8],\n",
    "              'lambda_l1': [0.001],\n",
    "              'lambda_l2': [8],\n",
    "\n",
    "              # 'learning_rate': [0.2],\n",
    "              # # 'cat_smooth': [10, 15, 20, ]\n",
    "}\n",
    "\n",
    "best_lgbm = None\n",
    "best_acc = 0\n",
    "f1, f2 = np.meshgrid(parameters['lambda_l1'], parameters['lambda_l2'])\n",
    "f1 = f1.flat[:]\n",
    "f2 = f2.flat[:]\n",
    "\n",
    "for i, j in zip(f1, f2):\n",
    "  lgbm = lgb.LGBMClassifier(objective = 'muilti_class',\n",
    "                          metric = 'multi_logloss',\n",
    "                          max_depth = 9,\n",
    "                          num_leaves = 255,\n",
    "                          learning_rate = 0.008,\n",
    "                          # feature_fraction = 0.9,\n",
    "                          feature_fraction = 0.7,\n",
    "                          min_child_samples=21,\n",
    "                          min_child_weight=0.01,\n",
    "                          # bagging_fraction = 0.8,\n",
    "                          bagging_fraction = 1,\n",
    "                          bagging_freq = 2,\n",
    "                          reg_alpha = i,\n",
    "                          reg_lambda = j,\n",
    "                          cat_smooth = 0, \n",
    "                          device = 'cpu',\n",
    "                          n_estimators = 600,\n",
    "                          )\n",
    "  lgbm.fit(X, y)\n",
    "  y_pred = torch.tensor(lgbm.predict(X))\n",
    "  acc_train = sum(y_pred == y).item()/22400\n",
    "\n",
    "  y_dev_pred = torch.tensor(lgbm.predict(X_dev))\n",
    "  acc = sum(y_dev_pred == y_dev).item()/800\n",
    "  print(f'{i}, {j}, acc in dev:{acc},  acc in train:{acc_train}')\n",
    "  if best_acc <= acc:\n",
    "    best_lgbm = lgbm\n",
    "    best_acc = acc\n",
    "  \n",
    "print(best_lgbm, best_acc) "
   ]
  },
  {
   "cell_type": "code",
   "execution_count": null,
   "metadata": {
    "colab": {
     "base_uri": "https://localhost:8080/",
     "height": 168
    },
    "colab_type": "code",
    "executionInfo": {
     "elapsed": 2982191,
     "status": "error",
     "timestamp": 1595342408145,
     "user": {
      "displayName": "數學系410531239 潘岳廷",
      "photoUrl": "",
      "userId": "01296087288080262773"
     },
     "user_tz": -480
    },
    "id": "2RVTMLTp-RzB",
    "outputId": "39949256-fec1-4321-9f13-cf3206438ca0"
   },
   "outputs": [],
   "source": []
  },
  {
   "cell_type": "code",
   "execution_count": 22,
   "metadata": {
    "colab": {},
    "colab_type": "code",
    "id": "W5WvBMop-R4v"
   },
   "outputs": [
    {
     "data": {
      "text/plain": [
       "array(['min_data_in_leaf'], dtype='<U16')"
      ]
     },
     "execution_count": 22,
     "metadata": {},
     "output_type": "execute_result"
    }
   ],
   "source": [
    "f1"
   ]
  },
  {
   "cell_type": "code",
   "execution_count": null,
   "metadata": {
    "colab": {},
    "colab_type": "code",
    "id": "QUi-EPz5-R7r"
   },
   "outputs": [],
   "source": []
  },
  {
   "cell_type": "code",
   "execution_count": null,
   "metadata": {
    "colab": {},
    "colab_type": "code",
    "id": "3Vq_I3td-R-0"
   },
   "outputs": [],
   "source": []
  },
  {
   "cell_type": "code",
   "execution_count": null,
   "metadata": {
    "colab": {},
    "colab_type": "code",
    "id": "J_Z4GFu2-SBv"
   },
   "outputs": [],
   "source": []
  },
  {
   "cell_type": "code",
   "execution_count": null,
   "metadata": {
    "colab": {},
    "colab_type": "code",
    "id": "5TsSfXxB-SEx"
   },
   "outputs": [],
   "source": []
  },
  {
   "cell_type": "code",
   "execution_count": null,
   "metadata": {
    "colab": {},
    "colab_type": "code",
    "id": "kBnS2yho-SHv"
   },
   "outputs": [],
   "source": []
  },
  {
   "cell_type": "code",
   "execution_count": null,
   "metadata": {
    "colab": {},
    "colab_type": "code",
    "id": "A470HYva-SKv"
   },
   "outputs": [],
   "source": []
  },
  {
   "cell_type": "code",
   "execution_count": null,
   "metadata": {
    "colab": {},
    "colab_type": "code",
    "id": "eE72RQ5u-SNu"
   },
   "outputs": [],
   "source": []
  },
  {
   "cell_type": "code",
   "execution_count": null,
   "metadata": {
    "colab": {},
    "colab_type": "code",
    "id": "uWqJ_31b-SQy"
   },
   "outputs": [],
   "source": []
  },
  {
   "cell_type": "code",
   "execution_count": null,
   "metadata": {
    "colab": {},
    "colab_type": "code",
    "id": "K4gD_uX2-ST0"
   },
   "outputs": [],
   "source": []
  },
  {
   "cell_type": "code",
   "execution_count": null,
   "metadata": {
    "colab": {},
    "colab_type": "code",
    "id": "U8HEFIPA-SW1"
   },
   "outputs": [],
   "source": []
  },
  {
   "cell_type": "code",
   "execution_count": null,
   "metadata": {
    "colab": {},
    "colab_type": "code",
    "id": "OoU4ZHhu-SZ_"
   },
   "outputs": [],
   "source": []
  },
  {
   "cell_type": "code",
   "execution_count": null,
   "metadata": {
    "colab": {},
    "colab_type": "code",
    "id": "dyDSB5G1-SdL"
   },
   "outputs": [],
   "source": []
  },
  {
   "cell_type": "code",
   "execution_count": null,
   "metadata": {
    "colab": {},
    "colab_type": "code",
    "id": "ps7q8mjg-SgW"
   },
   "outputs": [],
   "source": []
  },
  {
   "cell_type": "code",
   "execution_count": null,
   "metadata": {
    "colab": {},
    "colab_type": "code",
    "id": "JDON1fuC-SjA"
   },
   "outputs": [],
   "source": []
  },
  {
   "cell_type": "code",
   "execution_count": null,
   "metadata": {
    "colab": {},
    "colab_type": "code",
    "id": "DNkc-sZ5-SoX"
   },
   "outputs": [],
   "source": []
  },
  {
   "cell_type": "code",
   "execution_count": null,
   "metadata": {
    "colab": {},
    "colab_type": "code",
    "id": "t_5Yzr1k-Srk"
   },
   "outputs": [],
   "source": []
  },
  {
   "cell_type": "code",
   "execution_count": null,
   "metadata": {
    "colab": {},
    "colab_type": "code",
    "id": "VwwJ0lz1-Suw"
   },
   "outputs": [],
   "source": []
  },
  {
   "cell_type": "code",
   "execution_count": null,
   "metadata": {
    "colab": {},
    "colab_type": "code",
    "id": "yV4wt7hA-Sz7"
   },
   "outputs": [],
   "source": []
  },
  {
   "cell_type": "code",
   "execution_count": null,
   "metadata": {
    "colab": {},
    "colab_type": "code",
    "id": "Cq9w_ksX-S3R"
   },
   "outputs": [],
   "source": []
  },
  {
   "cell_type": "code",
   "execution_count": null,
   "metadata": {
    "colab": {},
    "colab_type": "code",
    "id": "L3oGemIh-S6e"
   },
   "outputs": [],
   "source": []
  },
  {
   "cell_type": "code",
   "execution_count": null,
   "metadata": {
    "colab": {},
    "colab_type": "code",
    "id": "UtoUZRIp-S96"
   },
   "outputs": [],
   "source": []
  },
  {
   "cell_type": "code",
   "execution_count": null,
   "metadata": {
    "colab": {},
    "colab_type": "code",
    "id": "E5Cmsw3O-TAl"
   },
   "outputs": [],
   "source": []
  },
  {
   "cell_type": "code",
   "execution_count": null,
   "metadata": {
    "colab": {},
    "colab_type": "code",
    "id": "ExPrIY7s-TGW"
   },
   "outputs": [],
   "source": []
  },
  {
   "cell_type": "code",
   "execution_count": null,
   "metadata": {
    "colab": {},
    "colab_type": "code",
    "id": "pC76l_Ni-TLq"
   },
   "outputs": [],
   "source": []
  },
  {
   "cell_type": "code",
   "execution_count": null,
   "metadata": {
    "colab": {},
    "colab_type": "code",
    "id": "Ss5pOxzO-TJ4"
   },
   "outputs": [],
   "source": []
  },
  {
   "cell_type": "code",
   "execution_count": null,
   "metadata": {
    "colab": {},
    "colab_type": "code",
    "id": "Q0JEG3UD-TEB"
   },
   "outputs": [],
   "source": []
  },
  {
   "cell_type": "code",
   "execution_count": null,
   "metadata": {
    "colab": {},
    "colab_type": "code",
    "id": "AgqXIRbH-SyE"
   },
   "outputs": [],
   "source": []
  },
  {
   "cell_type": "code",
   "execution_count": null,
   "metadata": {
    "colab": {},
    "colab_type": "code",
    "id": "ikxoQ8-B-SmE"
   },
   "outputs": [],
   "source": []
  },
  {
   "cell_type": "code",
   "execution_count": null,
   "metadata": {
    "colab": {},
    "colab_type": "code",
    "id": "DSsCQLRH-Rtp"
   },
   "outputs": [],
   "source": []
  },
  {
   "cell_type": "code",
   "execution_count": null,
   "metadata": {
    "colab": {},
    "colab_type": "code",
    "id": "yS48rbYe-Rn5"
   },
   "outputs": [],
   "source": []
  },
  {
   "cell_type": "code",
   "execution_count": 96,
   "metadata": {
    "colab": {},
    "colab_type": "code",
    "id": "Kjv2RHp2zkDs"
   },
   "outputs": [],
   "source": [
    "import torchvision.transforms as transforms\n",
    "import matplotlib.pyplot as plt\n",
    "import torch\n",
    "from torch.utils.data import Dataset, DataLoader\n",
    "import numpy as np\n",
    "\n",
    "dtype = torch.float32 # we will be using float throughout this tutorial\n",
    "\n",
    "#the steps of preprocessing\n",
    "p = 0.5\n",
    "q = 0.5\n",
    "trans_list = [\n",
    "        transforms.RandomRotation(degrees = (0,359)),#\n",
    "        transforms.Resize(280),\n",
    "        transforms.CenterCrop(224),\n",
    "\n",
    "        transforms.RandomHorizontalFlip(p),  \n",
    "        transforms.RandomVerticalFlip(q),\n",
    "\n",
    "        transforms.ColorJitter(brightness=(0, 3), contrast=(\n",
    "        0, 3), saturation=(0, 5), hue=(0, 0)),\n",
    "        transforms.ToTensor(),\n",
    "        transforms.Normalize([0.485, 0.456, 0.406], [0.229, 0.224, 0.225]),\n",
    "        transforms.RandomErasing(p=0.8, scale=(0.02, 0.02), ratio=(1, 1), value='1234'),\n",
    "    \n",
    "]\n",
    "preprocess = {\n",
    "    'train': transforms.Compose(trans_list)\n",
    "}"
   ]
  },
  {
   "cell_type": "code",
   "execution_count": 106,
   "metadata": {
    "colab": {},
    "colab_type": "code",
    "id": "GuzkYWOZKQll"
   },
   "outputs": [],
   "source": [
    "li = [0,1,2]"
   ]
  },
  {
   "cell_type": "code",
   "execution_count": 113,
   "metadata": {
    "colab": {},
    "colab_type": "code",
    "id": "zHwx_MJEP1YP"
   },
   "outputs": [],
   "source": [
    "li.insert(1,4)"
   ]
  },
  {
   "cell_type": "code",
   "execution_count": 114,
   "metadata": {
    "colab": {},
    "colab_type": "code",
    "id": "QUWotG4NP1VY"
   },
   "outputs": [
    {
     "data": {
      "text/plain": [
       "[3, 4, 3, 0, 3, 2]"
      ]
     },
     "execution_count": 114,
     "metadata": {},
     "output_type": "execute_result"
    }
   ],
   "source": [
    "li"
   ]
  },
  {
   "cell_type": "code",
   "execution_count": 91,
   "metadata": {
    "colab": {},
    "colab_type": "code",
    "id": "aIuX0-PXEEzS"
   },
   "outputs": [
    {
     "data": {
      "text/plain": [
       "0"
      ]
     },
     "execution_count": 91,
     "metadata": {},
     "output_type": "execute_result"
    }
   ],
   "source": []
  },
  {
   "cell_type": "code",
   "execution_count": null,
   "metadata": {
    "colab": {},
    "colab_type": "code",
    "id": "RlTsNp2yEE1y"
   },
   "outputs": [],
   "source": []
  },
  {
   "cell_type": "code",
   "execution_count": null,
   "metadata": {
    "colab": {},
    "colab_type": "code",
    "id": "sXsN1poFEE4Z"
   },
   "outputs": [],
   "source": []
  },
  {
   "cell_type": "code",
   "execution_count": null,
   "metadata": {
    "colab": {},
    "colab_type": "code",
    "id": "4axoHchTEE7J"
   },
   "outputs": [],
   "source": []
  },
  {
   "cell_type": "code",
   "execution_count": null,
   "metadata": {
    "colab": {},
    "colab_type": "code",
    "id": "UmI0QTv_H4O8"
   },
   "outputs": [],
   "source": []
  },
  {
   "cell_type": "code",
   "execution_count": null,
   "metadata": {
    "colab": {},
    "colab_type": "code",
    "id": "M0dcZ-_NH4Sf"
   },
   "outputs": [],
   "source": []
  },
  {
   "cell_type": "code",
   "execution_count": null,
   "metadata": {
    "colab": {},
    "colab_type": "code",
    "id": "Lc5mdVDSv4C1"
   },
   "outputs": [],
   "source": []
  },
  {
   "cell_type": "code",
   "execution_count": null,
   "metadata": {
    "colab": {},
    "colab_type": "code",
    "id": "zPZgZotLSuGR"
   },
   "outputs": [],
   "source": [
    "import seaborn as sn\n",
    "df_cm = pd.DataFrame(cm.numpy().astype(np.int32),\n",
    "                     index = [i for i in [\"true_A\", \"true_B\", \"true_C\"]],\n",
    "                     columns = [i for i in [\"pred_A\", \"pred_B\", \"pred_C\"]])\n",
    "plt.figure(figsize = (4, 4))\n",
    "sn.heatmap(df_cm, annot=True, cmap=\"BuPu\")"
   ]
  },
  {
   "cell_type": "code",
   "execution_count": null,
   "metadata": {
    "colab": {},
    "colab_type": "code",
    "id": "ZYapy2KRv4C6"
   },
   "outputs": [],
   "source": [
    "cm.numpy().astype(np.int32)"
   ]
  },
  {
   "cell_type": "code",
   "execution_count": null,
   "metadata": {
    "colab": {},
    "colab_type": "code",
    "id": "YbF19crJv4DO"
   },
   "outputs": [],
   "source": [
    "\n"
   ]
  },
  {
   "cell_type": "code",
   "execution_count": null,
   "metadata": {
    "colab": {},
    "colab_type": "code",
    "id": "oT_2UOYpv4DQ"
   },
   "outputs": [],
   "source": []
  },
  {
   "cell_type": "code",
   "execution_count": null,
   "metadata": {
    "colab": {},
    "colab_type": "code",
    "id": "xpYXSHZ1v4DS"
   },
   "outputs": [],
   "source": []
  },
  {
   "cell_type": "code",
   "execution_count": null,
   "metadata": {
    "colab": {},
    "colab_type": "code",
    "id": "2gJnAnV_v4Dl"
   },
   "outputs": [],
   "source": [
    "測試model1的acc"
   ]
  },
  {
   "cell_type": "code",
   "execution_count": null,
   "metadata": {
    "colab": {},
    "colab_type": "code",
    "id": "-iGh0Sgxv4Dx"
   },
   "outputs": [],
   "source": [
    "print(preds1)"
   ]
  },
  {
   "cell_type": "code",
   "execution_count": null,
   "metadata": {
    "colab": {},
    "colab_type": "code",
    "id": "fa8F286Av4D0"
   },
   "outputs": [],
   "source": []
  },
  {
   "cell_type": "code",
   "execution_count": null,
   "metadata": {
    "colab": {},
    "colab_type": "code",
    "id": "wnWHvkrNv4D2"
   },
   "outputs": [],
   "source": []
  },
  {
   "cell_type": "code",
   "execution_count": null,
   "metadata": {
    "colab": {},
    "colab_type": "code",
    "id": "quTdM78qv4D5"
   },
   "outputs": [],
   "source": []
  },
  {
   "cell_type": "code",
   "execution_count": null,
   "metadata": {
    "colab": {},
    "colab_type": "code",
    "id": "Xba6oXU-v4D7"
   },
   "outputs": [],
   "source": []
  },
  {
   "cell_type": "code",
   "execution_count": null,
   "metadata": {
    "colab": {},
    "colab_type": "code",
    "id": "EmHXebj-v4D-"
   },
   "outputs": [],
   "source": []
  },
  {
   "cell_type": "code",
   "execution_count": null,
   "metadata": {
    "colab": {},
    "colab_type": "code",
    "id": "5NLBNwgnv4D_"
   },
   "outputs": [],
   "source": [
    "\n",
    "\n"
   ]
  },
  {
   "cell_type": "code",
   "execution_count": null,
   "metadata": {
    "colab": {},
    "colab_type": "code",
    "id": "uHw44QBIv4EB"
   },
   "outputs": [],
   "source": []
  },
  {
   "cell_type": "code",
   "execution_count": null,
   "metadata": {
    "colab": {},
    "colab_type": "code",
    "id": "XxRL40brv4ED"
   },
   "outputs": [],
   "source": []
  },
  {
   "cell_type": "code",
   "execution_count": null,
   "metadata": {
    "colab": {},
    "colab_type": "code",
    "id": "-4R_ooAUv4EF"
   },
   "outputs": [],
   "source": []
  },
  {
   "cell_type": "code",
   "execution_count": null,
   "metadata": {
    "colab": {},
    "colab_type": "code",
    "id": "KmBYFCR4v4EH"
   },
   "outputs": [],
   "source": []
  },
  {
   "cell_type": "code",
   "execution_count": null,
   "metadata": {
    "colab": {},
    "colab_type": "code",
    "id": "PBuguIgHv4EL"
   },
   "outputs": [],
   "source": []
  },
  {
   "cell_type": "code",
   "execution_count": null,
   "metadata": {
    "colab": {},
    "colab_type": "code",
    "id": "a3vX9D22v4EO"
   },
   "outputs": [],
   "source": []
  },
  {
   "cell_type": "code",
   "execution_count": null,
   "metadata": {
    "colab": {},
    "colab_type": "code",
    "id": "shECBUjKv4ER"
   },
   "outputs": [],
   "source": []
  }
 ],
 "metadata": {
  "accelerator": "GPU",
  "colab": {
   "collapsed_sections": [],
   "name": "ChaVector_train2.ipynb",
   "provenance": []
  },
  "kernelspec": {
   "display_name": "Python 3",
   "language": "python",
   "name": "python3"
  },
  "language_info": {
   "codemirror_mode": {
    "name": "ipython",
    "version": 3
   },
   "file_extension": ".py",
   "mimetype": "text/x-python",
   "name": "python",
   "nbconvert_exporter": "python",
   "pygments_lexer": "ipython3",
   "version": "3.7.7"
  }
 },
 "nbformat": 4,
 "nbformat_minor": 1
}
